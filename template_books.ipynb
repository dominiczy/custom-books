{
 "cells": [
  {
   "attachments": {},
   "cell_type": "markdown",
   "metadata": {},
   "source": [
    "## Setup"
   ]
  },
  {
   "cell_type": "markdown",
   "metadata": {},
   "source": [
    "### Stuff\n",
    "\n",
    "Copy+rename before use"
   ]
  },
  {
   "cell_type": "code",
   "execution_count": 1,
   "metadata": {},
   "outputs": [
    {
     "name": "stderr",
     "output_type": "stream",
     "text": [
      "/Users/dominiczijlstra/workspace/custom_books/.venv/lib/python3.11/site-packages/tqdm/auto.py:21: TqdmWarning: IProgress not found. Please update jupyter and ipywidgets. See https://ipywidgets.readthedocs.io/en/stable/user_install.html\n",
      "  from .autonotebook import tqdm as notebook_tqdm\n"
     ]
    },
    {
     "name": "stdout",
     "output_type": "stream",
     "text": [
      "Attempting to extract text from PDF: The Gateless Gate 無門關.pdf...\n",
      "✅ PDF extracted successfully using PyMuPDF: 60,511 characters\n",
      "✅ PDF text extraction successful: 60,511 characters\n",
      "Combined content: 60,548 characters\n",
      "Estimated tokens: 20,182\n",
      "Max tokens per batch: 400,000\n",
      "Processing text content...\n",
      "Processing 1 text batches...\n",
      "Processing text batch 1/1\n",
      "Batch 1 hit token limit, splitting recursively...\n",
      "🔄 Recursive split (depth 0): 60549 chars, target 200000 tokens\n",
      "📦 Split into 2 sub-batches\n",
      "🔄 Processing sub-batch 1/2 (28738 chars)\n",
      "🔄 Sub-batch 1 still too big, splitting deeper...\n",
      "  🔄 Recursive split (depth 1): 28738 chars, target 100000 tokens\n",
      "  📦 Split into 2 sub-batches\n",
      "  🔄 Processing sub-batch 1/2 (12430 chars)\n",
      "  ✅ Sub-batch 1 succeeded (20886 chars output)\n",
      "  🔄 Processing sub-batch 2/2 (16306 chars)\n",
      "  ✅ Sub-batch 2 succeeded (20229 chars output)\n",
      "  📋 Recursive split complete: 2 successful results\n",
      "📝 Got 2 results from deeper split\n",
      "🔄 Processing sub-batch 2/2 (31809 chars)\n",
      "🔄 Sub-batch 2 still too big, splitting deeper...\n",
      "  🔄 Recursive split (depth 1): 31809 chars, target 100000 tokens\n",
      "  📦 Split into 2 sub-batches\n",
      "  🔄 Processing sub-batch 1/2 (15876 chars)\n",
      "  🔄 Sub-batch 1 still too big, splitting deeper...\n",
      "    🔄 Recursive split (depth 2): 15876 chars, target 50000 tokens\n",
      "    📦 Split into 2 sub-batches\n",
      "    🔄 Processing sub-batch 1/2 (7194 chars)\n",
      "    ✅ Sub-batch 1 succeeded (10998 chars output)\n",
      "    🔄 Processing sub-batch 2/2 (8680 chars)\n",
      "    ✅ Sub-batch 2 succeeded (9966 chars output)\n",
      "    📋 Recursive split complete: 2 successful results\n",
      "  📝 Got 2 results from deeper split\n",
      "  🔄 Processing sub-batch 2/2 (15931 chars)\n",
      "  ✅ Sub-batch 2 succeeded (16639 chars output)\n",
      "  📋 Recursive split complete: 3 successful results\n",
      "📝 Got 3 results from deeper split\n",
      "📋 Recursive split complete: 5 successful results\n",
      "Enhanced markdown created: 无门关_full.md\n"
     ]
    },
    {
     "data": {
      "text/plain": [
       "'无门关_full.md'"
      ]
     },
     "execution_count": 1,
     "metadata": {},
     "output_type": "execute_result"
    }
   ],
   "source": [
    "from create_book import create_md\n",
    "\n",
    "prompt = '''  attached is the gateless gate 无门关 in chinese and a translation.\n",
    "\n",
    "  return a markdown text in the same format and with all content (eg chinese + translation line by line), but with simplified chinese characters instead of traditional chinese characters.\n",
    "\n",
    "  for every case, use a new markdown H2 header, followed by the case. And the comment and the verse should each be h3 headers.\n",
    "\n",
    "  also, for any line with chinese characters that contains characters that are not in HSK1-6 (after you've changed the traditional characters to simplified chinese), on the next line list each of these non-HSK characters with their pronunciation, meaning(s) and possibly alternative ways of expressing using hsk1-6 characters\n",
    "  (if the same non-HSK character appears multiple times in a chapter, only list it once)\n",
    "  (if the same non-HSK character appears multiple times in a chapter, only list it once)\n",
    "\n",
    "  for reference here are all HSK characters:\n",
    "  Characters Sorted By Level First Used In The New HSK\n",
    "Character list for Level 1 (一): {Link to the vocabulary list.}\n",
    "起 果 热 院 四 回 西 国 高 怎 系 北 一 七 三 上 下 不 东 子 医 字 个 十 中 午 气 学 么 开 水 九 习 书 汉 雨 买 见 视 零 觉 了 二 在 五 些 生 坐 电 块 影 很 校 客 样 家 桌 去 京 亮 想 友 人 没 什 对 今 叫 他 们 面 候 苹 做 小 少 吃 同 名 后 吗 听 会 爱 爸 租 呢 住 岁 作 你 和 茶 椅 的 车 站 那 钟 哪 狗 认 识 话 日 都 语 时 菜 说 请 读 儿 先 钱 我 八 六 老 关 兴 这 再 写 打 商 猫 谁 明 星 昨 飞 谢 是 喂 多 喜 喝 大 天 冷 看 太 几 出 女 她 好 睡 妈 工 现 衣 能 里 分 饭 馆 姐 前 欢 师 脑 火 漂 月 有 朋 服 年 期 本 米 店 机 来 杯 点\n",
    "Count: 178\n",
    "\n",
    "Character list for Level 2 (二): {Link to the vocabulary list.}\n",
    "阴 每 比 自 因 瓜 要 足 思 跑 丈 路 跳 两 息 千 孩 为 黑 卖 乐 它 完 也 弟 宜 雪 张 舞 事 船 累 汽 场 男 色 您 踢 得 室 情 介 从 可 右 号 司 以 件 票 非 泳 忙 快 病 意 身 向 蛋 就 吧 休 慢 离 送 告 洗 员 但 体 牛 穿 道 咖 教 药 懂 白 百 鱼 便 哥 斤 让 新 旁 旅 诉 红 试 早 纸 绍 课 经 给 题 颜 元 边 公 考 共 过 迎 运 近 还 房 进 远 所 笑 手 第 唱 找 等 答 啡 游 肉 备 外 夫 晚 准 真 晴 错 眼 着 报 奶 睛 羊 玩 行 长 左 已 表 篮 班 妹 妻 始 别 姓 到 次 知 希 门 歌 问 间 帮 正 步 常 球 最 望 床 贵 务 动 助 鸡 走\n",
    "Count: 171\n",
    "\n",
    "Character list for Level 3 (三): {Link to the vocabulary list.}\n",
    "板 炼 极 超 段 越 接 阳 烧 阿 附 康 提 除 碗 澡 糕 糖 园 趣 图 怕 急 怪 包 总 跟 查 化 万 且 世 业 黄 半 季 主 然 举 单 南 难 久 乎 安 汁 求 搬 舒 定 实 照 历 般 角 于 熊 云 解 地 甜 当 用 坏 画 树 界 节 ﻿ 根 害 容 宾 厨 惯 参 又 双 需 发 叔 变 口 句 示 礼 河 只 鼻 史 虽 祝 法 注 花 静 心 必 忘 借 城 鞋 疼 梯 健 感 检 愿 层 居 伞 选 秋 种 爬 爷 通 山 位 低 片 周 牙 空 遇 物 突 放 音 故 使 特 敢 草 像 数 瘦 文 境 楚 响 鲜 楼 轻 较 辆 邮 哭 邻 信 议 方 记 讲 词 级 旧 该 须 顾 练 终 结 绩 声 盘 戏 铁 铅 绿 成 或 目 直 相 者 其 典 而 迟 银 冒 笔 才 耳 扫 清 啊 调 聪 把 易 啤 风 渴 萄 春 筷 简 复 夏 酒 算 冬 冰 决 头 净 普 奇 葡 网 护 锻 如 担 育 镜 择 箱 胖 环 拿 街 差 己 衫 衬 重 满 刚 饱 更 饿 蓝 刮 刷 刻 香 姨 婚 短 矮 市 被 脚 带 灯 闻 力 办 裙 理 帽 脸 裤 换 据 演 干 平 腿 末 应 朵 马 加 李 努 束 赛 条 蕉 骑 鸟\n",
    "Count: 275\n",
    "\n",
    "Character list for Level 4 (四): {Link to the vocabulary list.}\n",
    "松 破 础 林 推 烟 硕 趟 母 烦 度 毕 座 际 毛 降 硬 确 限 险 握 陪 精 随 至 困 围 怀 态 激 怜 瓶 性 染 距 匙 恐 与 柿 专 区 丢 严 麻 孙 民 丰 恼 孤 丽 悉 言 默 博 集 卡 之 悔 弃 弄 乒 乓 永 乘 印 危 式 即 却 引 圆 厉 乱 压 厌 汗 观 规 江 航 污 厚 汤 原 弹 争 紧 互 亚 甚 圾 熟 址 彩 沙 由 申 标 坚 艺 往 撞 律 留 垃 格 惊 案 宽 惜 寄 密 富 寒 交 疑 桥 察 鼓 虎 及 亲 反 虑 桶 亿 取 受 仅 导 仍 另 社 仔 油 台 叶 播 代 燥 齐 神 价 任 微 份 泪 忆 倍 禁 泼 擦 龄 福 志 苦 值 忽 假 梦 愉 基 停 将 躺 尊 偶 尔 尝 各 合 傅 尤 程 稍 森 棵 尽 否 慕 众 优 吵 吸 传 伤 展 秀 适 洋 呀 估 科 逐 父 逛 速 造 积 洲 何 范 活 味 流 支 命 究 穷 济 收 改 遍 窄 效 窗 浪 例 傲 海 散 堵 供 警 消 邀 敲 整 塑 植 料 填 懒 墙 增 咱 咳 咸 品 软 针 润 概 竞 竟 章 童 保 输 计 断 讨 俩 辛 修 狮 许 论 访 证 评 族 获 部 译 深 约 纪 诚 无 既 详 页 误 顺 顿 皮 组 细 织 预 钢 钥 绝 允 光 士 继 克 免 盐 盒 续 辣 入 全 戚 达 具 养 耐 戴 户 内 连 农 扔 符 售 笨 扩 聊 猜 职 扬 扮 扰 联 聘 批 渐 猪 技 猴 谅 谈 温 谊 折 映 食 处 签 肚 够 省 况 失 湿 酸 凉 象 景 减 缺 著 奋 醒 暂 奖 暑 貌 暖 暗 键 抬 抱 抽 肤 肥 拉 肯 美 拒 管 招 羞 括 血 拾 篇 巧 巾 嗽 袋 释 量 金 袜 刀 切 羡 群 划 饮 列 则 羽 饺 饼 判 利 替 制 首 持 挂 指 按 翻 剧 剩 币 帅 脏 歉 挺 闹 止 此 功 脱 脾 死 嘴 琴 授 掉 掌 并 幸 漫 排 幽 广 负 序 责 败 货 术 质 膏 底 购 费 贺 杂 资 粗 码 材 村 励 骄 赚 研 验 勇 赢 骗 阅\n",
    "Count: 452\n",
    "\n",
    "Character list for Level 5 (五): {Link to the vocabulary list.}\n",
    "赶 鸭 构 烂 勤 烈 趁 队 鸽 趋 析 枕 控 措 烛 勺 防 阵 阶 薄 烤 阻 烫 毒 陆 庭 陌 描 毫 插 毯 粮 嚷 碍 碎 骤 骨 糊 臭 延 隔 建 团 致 糟 枪 固 架 怒 怖 髦 跃 某 柔 匀 匆 柜 藏 丁 恋 柴 麦 践 丑 碰 丙 丝 恢 匹 恨 磁 存 孝 恳 升 恶 临 华 协 氛 悄 义 雄 雇 占 乏 卧 卫 宁 搞 煎 乖 宇 守 乙 舅 卷 舌 舍 乡 汇 宗 官 宙 煤 厂 圈 宝 厅 煮 览 雷 摄 弯 摆 摇 厕 厘 雾 弱 池 土 强 摔 摘 亏 素 触 紫 摩 录 沉 甩 均 摸 形 田 甲 沟 良 誉 艰 鬼 艳 彻 彼 悠 坦 撕 征 魅 待 悲 宠 踩 宣 略 核 型 宴 桃 厢 宿 寂 桔 惠 寓 惭 县 产 档 疗 享 寞 叉 震 霉 鼠 虚 叙 蹲 寺 燃 寻 古 寿 召 付 治 虹 令 露 泉 祖 泛 仿 操 德 青 靠 革 忍 倒 苗 倡 龙 疯 疲 疾 域 念 英 痒 梨 愁 培 痛 梳 躲 封 射 棉 愤 愧 偷 棋 尖 尘 偿 棒 尚 傍 蛇 吐 吓 税 企 慌 慎 尺 尾 吨 局 含 启 屈 伙 屉 届 屋 伟 慧 吹 稳 吻 私 退 逃 慰 属 呆 鞭 洒 透 伴 伸 秒 秘 递 途 似 洞 逗 秩 版 牌 称 余 佛 派 移 逻 浅 佣 呼 浇 佩 测 堆 岛 浏 浓 政 咐 遗 牵 敌 敏 催 救 傻 遵 依 敬 涂 避 荐 繁 荣 塔 椒 斗 斜 蜂 憾 蜜 岸 蜡 咨 登 咬 皂 皇 哈 犯 侵 转 轮 立 状 犹 促 涨 钓 载 狂 俊 辅 液 辈 俗 蝴 蝶 哲 辑 订 竹 辞 狡 训 讯 融 郊 施 独 俱 讽 设 淡 狼 诊 诗 纯 旦 纲 询 旬 纷 顶 壁 项 线 领 绕 频 颗 统 盆 兄 充 益 绪 盖 壶 兔 绳 维 辩 模 绸 铃 综 横 戒 战 兵 铜 盼 迅 盾 唉 返 册 违 扇 链 橡 军 迫 述 托 迷 迹 耽 唯 追 执 扶 聚 献 承 抄 筑 猾 策 抓 投 抖 抗 谓 飘 谜 肃 肌 谦 谨 善 配 喊 显 营 夕 冠 缓 夜 编 豆 缘 晒 晕 眉 率 冲 玉 落 王 缩 冻 酱 夸 夹 销 锁 眠 豪 锅 豫 奈 醉 醋 源 智 锐 套 凡 罐 凭 罚 睁 抢 披 击 罪 置 股 妇 拆 肩 拍 拐 妙 肺 拜 胁 胃 胆 拥 喷 拦 瞎 背 拳 胜 巨 胡 嗓 玻 餐 巴 衡 补 胳 胶 胸 珍 采 滑 野 威 滚 滩 娘 妨 滴 饰 创 娱 初 娶 瞧 删 翅 曾 姑 委 刺 馒 姥 矛 姻 欠 姿 欣 挑 矩 布 剪 石 挡 挣 脆 挤 款 挥 矿 振 帘 歇 帝 脖 嘉 闪 闭 闯 灭 裁 闲 装 灰 席 灵 灾 劝 武 裔 捐 歪 幅 损 嘱 捡 炒 幕 腐 裹 殊 残 漏 籍 漠 腰 幻 幼 器 朝 庆 贝 膀 木 贡 财 未 膊 账 库 庙 类 朴 府 废 贴 贷 贸 嚏 杀 权 劣 蔬 粒 驶 嫁 粘 璃 驾 赏 劲 劳 砍 骂 赔 势 赞 炭 炮 嫩 炸\n",
    "Count: 636\n",
    "\n",
    "Character list for Level 6 (六): {Link to the vocabulary list.}\n",
    "赴 阐 阔 砸 烁 枉 殴 蕴 掠 探 殿 掩 烘 枚 枝 毁 毅 勾 勿 掰 掷 陈 膨 揉 陋 烹 揍 庸 粥 廉 陡 廊 臂 碌 嚼 廓 揭 粹 碑 陵 陶 陷 援 隆 臣 隐 隘 隙 障 枯 覆 瓣 瓦 趴 濒 瓷 怠 薪 怨 怯 跌 柬 跨 恍 跪 柱 碧 恒 恕 丐 匪 丘 碳 丛 恩 孔 恭 孕 丧 隧 磅 恰 氏 焦 磋 氓 串 丸 黎 隶 磕 搀 焰 搁 搂 卑 搅 卓 氢 搏 氧 雅 磨 搓 乌 雌 异 搜 煌 宅 悟 雕 弊 舆 乞 宏 卸 搭 舔 携 舟 弥 弦 乳 觅 紊 雹 摊 予 舰 舱 圣 舶 熄 索 汰 熏 井 汹 艇 甘 摧 归 沃 艘 沐 甭 坑 沛 栋 彰 坛 栏 坝 坟 役 踊 踌 坡 踏 撑 撒 畅 患 悦 魂 魄 誓 畏 径 悬 徊 畔 株 畜 魔 徒 审 悼 徘 徙 踪 芒 垂 垄 宪 宫 番 栽 宰 惋 宵 畴 框 惑 惕 厦 蹈 蹋 桑 疆 惦 惧 惨 惩 疏 亡 惫 亦 惮 惰 桨 亭 疙 熨 惹 虏 蹦 熬 虐 蹬 霍 仁 叛 沧 仇 寸 梁 沫 叠 沮 霜 叨 霞 虫 躁 躇 仓 叭 叮 沸 仗 仙 沼 撤 沾 沿 叹 泄 叼 蚀 霸 泊 仪 泌 御 仰 祥 循 芦 擅 泡 波 擎 泥 祸 泰 垫 芽 齿 忌 泻 泽 倘 苍 苏 疤 倦 疫 忠 埋 苟 忧 若 债 倾 症 偏 梢 痕 愈 械 躬 痪 愚 痹 愣 棍 棕 吁 吉 稀 吊 尬 慈 吝 吞 尴 吟 尸 稚 伍 爆 伏 吩 稠 伐 屁 屏 慨 禽 蛮 洁 屑 吼 鞠 伦 秃 伪 稻 稿 伯 慷 呈 逊 屡 履 伶 攀 伺 呕 逝 爽 津 憋 秤 洪 逢 攒 屿 逮 岂 茂 洽 呵 逼 茎 呻 穴 岔 岗 韧 堂 浊 牢 咀 牧 浑 攻 咋 遏 窃 佳 牲 堕 咙 储 茫 牺 侈 堡 遣 堤 遥 窜 窝 浮 堪 遭 遮 浴 敞 浸 涉 荒 瘤 譬 涌 瘩 敷 瘫 塌 涕 荡 涛 荧 瘸 塘 椎 瘾 塞 斑 僵 癌 斟 僻 椭 岩 墅 岳 墓 墟 皆 鲁 侠 侣 咽 侦 侧 侨 哀 侮 哄 哆 哇 轨 犬 峡 哎 钉 哑 峭 轰 峰 竖 哟 峻 涮 哦 狈 哨 钞 俐 辉 涵 俘 斥 竭 端 斩 辐 榜 淀 辖 辙 讥 哺 斯 哼 淆 辜 郁 辟 狠 淋 俭 俯 讳 郎 狭 讶 淘 郑 讼 狱 莫 旋 诈 旗 墨 纠 纤 混 淹 纬 添 诞 旨 菌 纳 纵 诧 纹 纺 诫 诬 纽 旱 旷 顽 诱 旺 绅 诵 诸 颁 颂 皱 颇 颈 诺 绎 诽 绑 绒 绘 颖 络 钦 壤 钩 盈 额 兆 绣 壮 监 壳 榨 盗 兑 钻 盛 盟 辨 党 兜 辫 兢 辰 辱 盯 崇 辽 盲 耀 迁 迄 迈 截 耍 崖 兼 兽 耕 唆 耗 唇 螺 铭 崩 橙 铸 唐 扁 崭 铺 扎 唠 扑 扒 耸 迸 耻 扛 猎 嵌 扣 猖 猛 聋 唾 扭 颠 扯 颤 笼 啃 渔 渗 昂 筋 昆 鄙 渠 筐 渡 昌 渣 筒 昏 谋 谍 筛 谎 昔 抑 港 抒 啥 啦 谐 抚 抛 啬 飙 渺 啰 昧 肆 啸 萌 谣 谤 筹 谬 肖 喇 喉 缀 谱 酌 昼 谴 谷 湖 晃 酗 冤 喘 缔 晋 酝 缚 缝 晓 缠 酬 央 晤 湾 酷 晨 凄 夺 缴 溃 酿 溅 凌 溉 晰 锈 眨 晶 凑 奉 锋 眯 晾 奏 凝 董 眶 溜 奔 暄 葫 葬 罕 锤 奠 奢 锦 奥 凶 凸 凹 罢 罩 锲 蒂 奴 抵 抹 署 押 督 镇 妄 睦 肢 妆 蒙 拄 睬 肪 拌 蠢 妒 睹 肴 拓 拔 拖 拘 拙 肿 拟 胀 箭 拢 拣 拧 拨 喻 胎 瞒 衅 镶 川 州 嗅 衍 巡 胞 拼 拽 巩 衔 巷 溪 嗦 嗨 溶 嗯 衰 衷 暧 篷 珠 滋 暴 袍 滔 娃 娇 袖 滞 滤 滥 滨 妥 蒸 曝 刊 饥 蓄 刑 饪 饲 饶 曲 姆 瞩 瞪 馅 婆 馈 瀑 馋 瞻 券 刹 蓬 翔 翘 剂 削 婪 剔 剖 挎 婴 欧 翼 挖 剥 挚 欲 灌 帆 副 挠 脂 欺 割 脉 挨 袭 帐 挪 挫 帖 媒 袱 帜 嘈 劈 挽 裂 闷 捆 灶 捉 嘛 捍 捎 捏 灿 歧 裕 捕 炉 捞 炎 歹 嘲 捣 捧 漆 殃 嘿 簸 裳 琢 腔 捷 幢 殖 掀 腥 腮 掏 掐 朗 腹 掘 噪 腻 腾 庄 庇 贤 贩 贪 蔑 贫 蔓 贬 贯 庞 膛 朽 膜 膝 媳 粉 贼 潜 贿 杆 赁 驰 驱 赂 驳 劫 嫂 嫉 赋 驻 赌 潮 杖 嫌 蔼 蔽 杜 赖 杠 砖 鉴 勃 赠 勉 赤 澄 澈 阂 骚 杰 勘 鸣\n",
    "Count: 924\n",
    "\n",
    "'''\n",
    "\n",
    "\n",
    "create_md(\n",
    "    ['The Gateless Gate 無門關.pdf'],\n",
    "    prompt=prompt,\n",
    "    output_file='无门关_full.md',\n",
    "    test_run=False\n",
    ")"
   ]
  },
  {
   "cell_type": "code",
   "execution_count": 2,
   "metadata": {},
   "outputs": [
    {
     "name": "stdout",
     "output_type": "stream",
     "text": [
      "Found 52 chapters\n",
      "Chapter 1: Mumon's Preface\n",
      "Chapter 2: Case 1 Jõshû's \"Mu\" 一 赵州狗子\n",
      "Chapter 3: Case 2 Hyakujõ's Fox 二 百丈野狐\n",
      "Added chapter 1: Mumon's Preface\n",
      "Added chapter 2: Case 1 Jõshû's \"Mu\" 一 赵州狗子\n",
      "Added chapter 3: Case 2 Hyakujõ's Fox 二 百丈野狐\n",
      "Added chapter 4: Case 3 Gutei Raises a Finger 三 俱胝坚指\n",
      "Added chapter 5: Case 4 The Western Barbarian with No Beard 四 胡子无髭\n",
      "Added chapter 6: Case 5 Kyõgen's \"Man up in a Tree\" 五 香严上树\n",
      "Added chapter 7: Case 6 The Buddha Holds Out a Flower 六 世尊拈花\n",
      "Added chapter 8: Case 6 (continued)\n",
      "Added chapter 9: Case 7 Jõshû's \"Wash Your Bowl\" 七 赵州洗钵\n",
      "Added chapter 10: Case 8 Keichû the Wheelmaker 八 奚仲造车\n",
      "Added chapter 11: Case 9 Daitsû Chishõ Buddha 九 大通智胜\n",
      "Added chapter 12: Case 10 Seizei Is Utterly Destitude 十 清税孤贫\n",
      "Added chapter 13: Case 11 Jõshû Sees the Hermits 十一 州勘庵主\n",
      "Added chapter 14: Case 12 Zuigan Calls His Master 十二 瑞严唤主人\n",
      "Added chapter 15: Case 13 Tokusan Holds His Bowls 十三 德山托钵\n",
      "Added chapter 16: Case 14 Nansen Cuts the Cat in Two 十四 南泉斩猫\n",
      "Added chapter 17: Case 15 Tõzan's Sixty Blows 十五 洞山三顿\n",
      "Added chapter 18: Case 16 When the Bell Sounds 十六 钟声七条\n",
      "Added chapter 19: Case 17 Chû the National Teacher Gives Three Calls 十七 国师三唤\n",
      "Added chapter 20: Case 18 Tõzan's \"Masagin\" 十八 洞山三斤\n",
      "Added chapter 21: Case 19 Nansen's \"Ordinary Mind Is the Way\" 十九 平常是道\n",
      "Added chapter 22: Case 20 The Man of Great Strength 二十 大力量人\n",
      "Added chapter 23: Case 21 Unmon's \"Kanshiketsu\" 二十一 云门屎\n",
      "Added chapter 24: Case 22 Kashyapa's \"Knock Down the Flagpole\"\n",
      "Added chapter 25: Case 23 Think Neither Good Nor Evil\n",
      "Added chapter 26: Case 24 Fuketsu's Speech and Silence\n",
      "Added chapter 27: Case 25 Kyõzan's Dream\n",
      "Added chapter 28: Case 26 Two Monks Roll Up the Blinds\n",
      "Added chapter 29: Case 27 Nansen's \"Not Mind, Not Buddha, Not Things\"\n",
      "Added chapter 30: Case 28 Ryûtan Blows Out the Candle\n",
      "Added chapter 31: Case 28 Tokusan Holds Up His Staff\n",
      "Added chapter 32: Case 29 The Sixth Patriarch's \"Your Mind Moves\" 二十九 非风非幡\n",
      "Added chapter 33: Case 30 Baso's \"This Very Mind Is the Buddha\" 三十 即心即佛\n",
      "Added chapter 34: Case 31 Jõshû Investigates an Old Woman 三十一 赵州勘婆\n",
      "Added chapter 35: Case 32 A Non-Buddhist Philosopher Questions the Buddha 三十二 外道问佛\n",
      "Added chapter 36: Case 33 Baso's \"No Mind, No Buddha\" 三十三 非心非佛\n",
      "Added chapter 37: Case 34 Nansen's \"Reason Is Not the Way\" 三十四 智不是道\n",
      "Added chapter 38: Case 35 Seijõ's Soul Separated 三十五 倩女离魂\n",
      "Added chapter 39: Case 36 When You Meet a Man of the Way\n",
      "Added chapter 40: Case 37 Jõshû's Oak Tree\n",
      "Added chapter 41: Case 38 A Buffalo Passes the Window\n",
      "Added chapter 42: Case 39 A Mistake in Speaking\n",
      "Added chapter 43: Case 40 Tipping Over a Water Bottle\n",
      "Added chapter 44: Case 41 Bodhidharma's Mind-Pacifying\n",
      "Added chapter 45: Case 42 The Girl Comes out of Samadhi\n",
      "Added chapter 46: Case 43 Shuzan's Shippei\n",
      "Added chapter 47: Case 44 Bashõ's Staff\n",
      "Added chapter 48: Case 45 Hõen's \"Who Is He?\"\n",
      "Added chapter 49: Case 46 Proceed On from the Top of the Pole\n",
      "Added chapter 50: Case 47 Tosotsu's Three Barriers\n",
      "Added chapter 51: Case 48 Kempõ's One Road\n",
      "Added chapter 52: Mumon's Postscript\n",
      "EPUB book created successfully: 无门关_full.epub\n"
     ]
    },
    {
     "data": {
      "text/plain": [
       "True"
      ]
     },
     "execution_count": 2,
     "metadata": {},
     "output_type": "execute_result"
    }
   ],
   "source": [
    "from create_book import create_ebook\n",
    "\n",
    "\n",
    "create_ebook(\n",
    "  input_file='无门关_full.md',\n",
    "  output_file='无门关_full.epub',\n",
    "  title='无门关',\n",
    "  author='无门',\n",
    ")"
   ]
  },
  {
   "cell_type": "code",
   "execution_count": null,
   "metadata": {},
   "outputs": [],
   "source": []
  },
  {
   "cell_type": "code",
   "execution_count": null,
   "id": "pcgdc3swrd",
   "metadata": {},
   "outputs": [],
   "source": [
    "# Reload the module to get the latest changes\n",
    "import importlib\n",
    "import create_book\n",
    "importlib.reload(create_book)\n",
    "from create_book import create_md\n",
    "print(\"Module reloaded successfully\")"
   ]
  }
 ],
 "metadata": {
  "kernelspec": {
   "display_name": ".venv",
   "language": "python",
   "name": "python3"
  },
  "language_info": {
   "codemirror_mode": {
    "name": "ipython",
    "version": 3
   },
   "file_extension": ".py",
   "mimetype": "text/x-python",
   "name": "python",
   "nbconvert_exporter": "python",
   "pygments_lexer": "ipython3",
   "version": "3.11.13"
  },
  "orig_nbformat": 4
 },
 "nbformat": 4,
 "nbformat_minor": 2
}
