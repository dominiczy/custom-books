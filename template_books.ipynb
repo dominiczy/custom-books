{
 "cells": [
  {
   "attachments": {},
   "cell_type": "markdown",
   "metadata": {},
   "source": [
    "## Setup"
   ]
  },
  {
   "cell_type": "markdown",
   "metadata": {},
   "source": [
    "### Stuff\n",
    "\n",
    "Copy+rename before use"
   ]
  },
  {
   "cell_type": "code",
   "execution_count": 3,
   "metadata": {},
   "outputs": [
    {
     "name": "stdout",
     "output_type": "stream",
     "text": [
      "Found 64 chapters\n",
      "Chapter 1: Chapter 1\n",
      "Chapter 2: Chapter 2\n",
      "Chapter 3: Chapter 3\n",
      "Added chapter 1: Chapter 1\n",
      "Added chapter 2: Chapter 2\n",
      "Added chapter 3: Chapter 3\n",
      "Added chapter 4: Chapter 4\n",
      "Added chapter 5: Chapter 5\n",
      "Added chapter 6: Chapter 6\n",
      "Added chapter 7: Chapter 7\n",
      "Added chapter 8: Chapter 8\n",
      "Added chapter 9: Chapter 9\n",
      "Added chapter 10: Chapter 10\n",
      "Added chapter 11: Chapter 11\n",
      "Added chapter 12: Chapter 12\n",
      "Added chapter 13: Chapter 13\n",
      "Added chapter 14: Chapter 14\n",
      "Added chapter 15: Chapter 15\n",
      "Added chapter 16: Chapter 16\n",
      "Added chapter 17: Chapter 17\n",
      "Added chapter 18: Chapter 18\n",
      "Added chapter 19: Chapter 19\n",
      "Added chapter 20: Chapter 20\n",
      "Added chapter 21: Chapter 21\n",
      "Added chapter 22: Chapter 22\n",
      "Added chapter 23: Chapter 23\n",
      "Added chapter 24: Chapter 24\n",
      "Added chapter 25: Chapter 25\n",
      "Added chapter 26: Chapter 26\n",
      "Added chapter 27: Chapter 27\n",
      "Added chapter 28: Chapter 28\n",
      "Added chapter 29: Chapter 29\n",
      "Added chapter 30: Chapter 30\n",
      "Added chapter 31: Chapter 31\n",
      "Added chapter 32: Chapter 32\n",
      "Added chapter 33: Chapter 33\n",
      "Added chapter 34: Chapter 34\n",
      "Added chapter 35: Chapter 35\n",
      "Added chapter 36: Chapter 36\n",
      "Added chapter 37: Chapter 37\n",
      "Added chapter 38: Chapter 38\n",
      "Added chapter 39: Chapter 39\n",
      "Added chapter 40: Chapter 40\n",
      "Added chapter 41: Chapter 41\n",
      "Added chapter 42: Chapter 42\n",
      "Added chapter 43: Chapter 43\n",
      "Added chapter 44: Chapter 44\n",
      "Added chapter 45: Chapter 45\n",
      "Added chapter 46: Chapter 46\n",
      "Added chapter 47: Chapter 47\n",
      "Added chapter 48: Chapter 48\n",
      "Added chapter 49: Chapter 49\n",
      "Added chapter 50: Chapter 50\n",
      "Added chapter 51: Chapter 51\n",
      "Added chapter 52: Chapter 52\n",
      "Added chapter 53: Chapter 53\n",
      "Added chapter 54: Chapter 54\n",
      "Added chapter 55: Chapter 55\n",
      "Added chapter 56: Chapter 56\n",
      "Added chapter 57: Chapter 57\n",
      "Added chapter 58: Chapter 58\n",
      "Added chapter 59: Chapter 59\n",
      "Added chapter 60: Chapter 60\n",
      "Added chapter 61: Chapter 61\n",
      "Added chapter 62: Chapter 62\n",
      "Added chapter 63: Chapter 63\n",
      "Added chapter 64: Chapter 64\n",
      "EPUB book created successfully: dao de jing.epub\n"
     ]
    },
    {
     "data": {
      "text/plain": [
       "True"
      ]
     },
     "execution_count": 3,
     "metadata": {},
     "output_type": "execute_result"
    }
   ],
   "source": [
    "from create_book import create_ebook\n",
    "\n",
    "\n",
    "create_ebook(\n",
    "  input_file='dao de jing.md',\n",
    "  output_file='dao de jing.epub',\n",
    "  title='Dao De Jing',\n",
    "  author='Laozi',\n",
    ")"
   ]
  },
  {
   "cell_type": "code",
   "execution_count": null,
   "metadata": {},
   "outputs": [],
   "source": []
  }
 ],
 "metadata": {
  "kernelspec": {
   "display_name": ".venv",
   "language": "python",
   "name": "python3"
  },
  "language_info": {
   "codemirror_mode": {
    "name": "ipython",
    "version": 3
   },
   "file_extension": ".py",
   "mimetype": "text/x-python",
   "name": "python",
   "nbconvert_exporter": "python",
   "pygments_lexer": "ipython3",
   "version": "3.11.13"
  },
  "orig_nbformat": 4
 },
 "nbformat": 4,
 "nbformat_minor": 2
}
