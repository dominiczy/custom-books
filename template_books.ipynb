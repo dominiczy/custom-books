{
 "cells": [
  {
   "attachments": {},
   "cell_type": "markdown",
   "metadata": {},
   "source": [
    "## Setup"
   ]
  },
  {
   "cell_type": "markdown",
   "metadata": {},
   "source": [
    "### Stuff\n",
    "\n",
    "Copy+rename before use"
   ]
  },
  {
   "cell_type": "code",
   "execution_count": 1,
   "metadata": {},
   "outputs": [
    {
     "ename": "ParserError",
     "evalue": "Document is empty",
     "output_type": "error",
     "traceback": [
      "\u001b[31m---------------------------------------------------------------------------\u001b[39m",
      "\u001b[31mParserError\u001b[39m                               Traceback (most recent call last)",
      "\u001b[36mCell\u001b[39m\u001b[36m \u001b[39m\u001b[32mIn[1]\u001b[39m\u001b[32m, line 4\u001b[39m\n\u001b[32m      1\u001b[39m \u001b[38;5;28;01mfrom\u001b[39;00m\u001b[38;5;250m \u001b[39m\u001b[34;01mcreate_book\u001b[39;00m\u001b[38;5;250m \u001b[39m\u001b[38;5;28;01mimport\u001b[39;00m create_ebook\n\u001b[32m----> \u001b[39m\u001b[32m4\u001b[39m \u001b[43mcreate_ebook\u001b[49m\u001b[43m(\u001b[49m\u001b[43m)\u001b[49m\n",
      "\u001b[36mFile \u001b[39m\u001b[32m~/workspace/custom_books/create_book.py:360\u001b[39m, in \u001b[36mcreate_ebook\u001b[39m\u001b[34m()\u001b[39m\n\u001b[32m    357\u001b[39m book.spine = [\u001b[33m'\u001b[39m\u001b[33mcover\u001b[39m\u001b[33m'\u001b[39m, \u001b[33m'\u001b[39m\u001b[33mtoc\u001b[39m\u001b[33m'\u001b[39m] + chapter_items\n\u001b[32m    359\u001b[39m \u001b[38;5;66;03m# Write the book\u001b[39;00m\n\u001b[32m--> \u001b[39m\u001b[32m360\u001b[39m \u001b[43mepub\u001b[49m\u001b[43m.\u001b[49m\u001b[43mwrite_epub\u001b[49m\u001b[43m(\u001b[49m\u001b[33;43m'\u001b[39;49m\u001b[33;43mtao_te_ching_complete.epub\u001b[39;49m\u001b[33;43m'\u001b[39;49m\u001b[43m,\u001b[49m\u001b[43m \u001b[49m\u001b[43mbook\u001b[49m\u001b[43m,\u001b[49m\u001b[43m \u001b[49m\u001b[43m{\u001b[49m\u001b[43m}\u001b[49m\u001b[43m)\u001b[49m\n\u001b[32m    361\u001b[39m \u001b[38;5;28mprint\u001b[39m(\u001b[33m\"\u001b[39m\u001b[33mEPUB book created successfully: tao_te_ching_complete.epub\u001b[39m\u001b[33m\"\u001b[39m)\n",
      "\u001b[36mFile \u001b[39m\u001b[32m~/workspace/custom_books/.venv/lib/python3.11/site-packages/ebooklib/epub.py:1751\u001b[39m, in \u001b[36mwrite_epub\u001b[39m\u001b[34m(name, book, options)\u001b[39m\n\u001b[32m   1748\u001b[39m epub.process()\n\u001b[32m   1750\u001b[39m \u001b[38;5;28;01mtry\u001b[39;00m:\n\u001b[32m-> \u001b[39m\u001b[32m1751\u001b[39m     \u001b[43mepub\u001b[49m\u001b[43m.\u001b[49m\u001b[43mwrite\u001b[49m\u001b[43m(\u001b[49m\u001b[43m)\u001b[49m\n\u001b[32m   1752\u001b[39m \u001b[38;5;28;01mexcept\u001b[39;00m \u001b[38;5;167;01mIOError\u001b[39;00m:\n\u001b[32m   1753\u001b[39m     warnings.warn(\u001b[33m'\u001b[39m\u001b[33mIn the future throwing exceptions while writing will be default behavior.\u001b[39m\u001b[33m'\u001b[39m)\n",
      "\u001b[36mFile \u001b[39m\u001b[32m~/workspace/custom_books/.venv/lib/python3.11/site-packages/ebooklib/epub.py:1374\u001b[39m, in \u001b[36mEpubWriter.write\u001b[39m\u001b[34m(self)\u001b[39m\n\u001b[32m   1372\u001b[39m \u001b[38;5;28mself\u001b[39m._write_container()\n\u001b[32m   1373\u001b[39m \u001b[38;5;28mself\u001b[39m._write_opf()\n\u001b[32m-> \u001b[39m\u001b[32m1374\u001b[39m \u001b[38;5;28;43mself\u001b[39;49m\u001b[43m.\u001b[49m\u001b[43m_write_items\u001b[49m\u001b[43m(\u001b[49m\u001b[43m)\u001b[49m\n\u001b[32m   1376\u001b[39m \u001b[38;5;28mself\u001b[39m.out.close()\n",
      "\u001b[36mFile \u001b[39m\u001b[32m~/workspace/custom_books/.venv/lib/python3.11/site-packages/ebooklib/epub.py:1361\u001b[39m, in \u001b[36mEpubWriter._write_items\u001b[39m\u001b[34m(self)\u001b[39m\n\u001b[32m   1359\u001b[39m     \u001b[38;5;28mself\u001b[39m.out.writestr(\u001b[33m'\u001b[39m\u001b[38;5;132;01m%s\u001b[39;00m\u001b[33m/\u001b[39m\u001b[38;5;132;01m%s\u001b[39;00m\u001b[33m'\u001b[39m % (\u001b[38;5;28mself\u001b[39m.book.FOLDER_NAME, item.file_name), \u001b[38;5;28mself\u001b[39m._get_ncx())\n\u001b[32m   1360\u001b[39m \u001b[38;5;28;01melif\u001b[39;00m \u001b[38;5;28misinstance\u001b[39m(item, EpubNav):\n\u001b[32m-> \u001b[39m\u001b[32m1361\u001b[39m     \u001b[38;5;28mself\u001b[39m.out.writestr(\u001b[33m'\u001b[39m\u001b[38;5;132;01m%s\u001b[39;00m\u001b[33m/\u001b[39m\u001b[38;5;132;01m%s\u001b[39;00m\u001b[33m'\u001b[39m % (\u001b[38;5;28mself\u001b[39m.book.FOLDER_NAME, item.file_name), \u001b[38;5;28;43mself\u001b[39;49m\u001b[43m.\u001b[49m\u001b[43m_get_nav\u001b[49m\u001b[43m(\u001b[49m\u001b[43mitem\u001b[49m\u001b[43m)\u001b[49m)\n\u001b[32m   1362\u001b[39m \u001b[38;5;28;01melif\u001b[39;00m item.manifest:\n\u001b[32m   1363\u001b[39m     \u001b[38;5;28mself\u001b[39m.out.writestr(\u001b[33m'\u001b[39m\u001b[38;5;132;01m%s\u001b[39;00m\u001b[33m/\u001b[39m\u001b[38;5;132;01m%s\u001b[39;00m\u001b[33m'\u001b[39m % (\u001b[38;5;28mself\u001b[39m.book.FOLDER_NAME, item.file_name), item.get_content())\n",
      "\u001b[36mFile \u001b[39m\u001b[32m~/workspace/custom_books/.venv/lib/python3.11/site-packages/ebooklib/epub.py:1217\u001b[39m, in \u001b[36mEpubWriter._get_nav\u001b[39m\u001b[34m(self, item)\u001b[39m\n\u001b[32m   1215\u001b[39m \u001b[38;5;66;03m# PAGE-LIST\u001b[39;00m\n\u001b[32m   1216\u001b[39m \u001b[38;5;28;01mif\u001b[39;00m \u001b[38;5;28mself\u001b[39m.options.get(\u001b[33m'\u001b[39m\u001b[33mepub3_pages\u001b[39m\u001b[33m'\u001b[39m):\n\u001b[32m-> \u001b[39m\u001b[32m1217\u001b[39m     inserted_pages = \u001b[43mget_pages_for_items\u001b[49m\u001b[43m(\u001b[49m\u001b[43m[\u001b[49m\u001b[43mitem\u001b[49m\u001b[43m \u001b[49m\u001b[38;5;28;43;01mfor\u001b[39;49;00m\u001b[43m \u001b[49m\u001b[43mitem\u001b[49m\u001b[43m \u001b[49m\u001b[38;5;129;43;01min\u001b[39;49;00m\u001b[43m \u001b[49m\u001b[38;5;28;43mself\u001b[39;49m\u001b[43m.\u001b[49m\u001b[43mbook\u001b[49m\u001b[43m.\u001b[49m\u001b[43mget_items_of_type\u001b[49m\u001b[43m(\u001b[49m\u001b[43mebooklib\u001b[49m\u001b[43m.\u001b[49m\u001b[43mITEM_DOCUMENT\u001b[49m\u001b[43m)\u001b[49m\u001b[43m \u001b[49m\u001b[43m\\\u001b[49m\n\u001b[32m   1218\u001b[39m \u001b[43m        \u001b[49m\u001b[38;5;28;43;01mif\u001b[39;49;00m\u001b[43m \u001b[49m\u001b[38;5;129;43;01mnot\u001b[39;49;00m\u001b[43m \u001b[49m\u001b[38;5;28;43misinstance\u001b[39;49m\u001b[43m(\u001b[49m\u001b[43mitem\u001b[49m\u001b[43m,\u001b[49m\u001b[43m \u001b[49m\u001b[43mEpubNav\u001b[49m\u001b[43m)\u001b[49m\u001b[43m]\u001b[49m\u001b[43m)\u001b[49m\n\u001b[32m   1220\u001b[39m     \u001b[38;5;28;01mif\u001b[39;00m \u001b[38;5;28mlen\u001b[39m(inserted_pages) > \u001b[32m0\u001b[39m:\n\u001b[32m   1221\u001b[39m         pagelist_nav = etree.SubElement(\n\u001b[32m   1222\u001b[39m             body,\n\u001b[32m   1223\u001b[39m             \u001b[33m'\u001b[39m\u001b[33mnav\u001b[39m\u001b[33m'\u001b[39m,\n\u001b[32m   (...)\u001b[39m\u001b[32m   1228\u001b[39m             }\n\u001b[32m   1229\u001b[39m         )\n",
      "\u001b[36mFile \u001b[39m\u001b[32m~/workspace/custom_books/.venv/lib/python3.11/site-packages/ebooklib/utils.py:119\u001b[39m, in \u001b[36mget_pages_for_items\u001b[39m\u001b[34m(items)\u001b[39m\n\u001b[32m    118\u001b[39m \u001b[38;5;28;01mdef\u001b[39;00m\u001b[38;5;250m \u001b[39m\u001b[34mget_pages_for_items\u001b[39m(items):\n\u001b[32m--> \u001b[39m\u001b[32m119\u001b[39m     pages_from_docs = \u001b[43m[\u001b[49m\u001b[43mget_pages\u001b[49m\u001b[43m(\u001b[49m\u001b[43mitem\u001b[49m\u001b[43m)\u001b[49m\u001b[43m \u001b[49m\u001b[38;5;28;43;01mfor\u001b[39;49;00m\u001b[43m \u001b[49m\u001b[43mitem\u001b[49m\u001b[43m \u001b[49m\u001b[38;5;129;43;01min\u001b[39;49;00m\u001b[43m \u001b[49m\u001b[43mitems\u001b[49m\u001b[43m]\u001b[49m\n\u001b[32m    121\u001b[39m     \u001b[38;5;28;01mreturn\u001b[39;00m [item \u001b[38;5;28;01mfor\u001b[39;00m pages \u001b[38;5;129;01min\u001b[39;00m pages_from_docs \u001b[38;5;28;01mfor\u001b[39;00m item \u001b[38;5;129;01min\u001b[39;00m pages]\n",
      "\u001b[36mFile \u001b[39m\u001b[32m~/workspace/custom_books/.venv/lib/python3.11/site-packages/ebooklib/utils.py:119\u001b[39m, in \u001b[36m<listcomp>\u001b[39m\u001b[34m(.0)\u001b[39m\n\u001b[32m    118\u001b[39m \u001b[38;5;28;01mdef\u001b[39;00m\u001b[38;5;250m \u001b[39m\u001b[34mget_pages_for_items\u001b[39m(items):\n\u001b[32m--> \u001b[39m\u001b[32m119\u001b[39m     pages_from_docs = [\u001b[43mget_pages\u001b[49m\u001b[43m(\u001b[49m\u001b[43mitem\u001b[49m\u001b[43m)\u001b[49m \u001b[38;5;28;01mfor\u001b[39;00m item \u001b[38;5;129;01min\u001b[39;00m items]\n\u001b[32m    121\u001b[39m     \u001b[38;5;28;01mreturn\u001b[39;00m [item \u001b[38;5;28;01mfor\u001b[39;00m pages \u001b[38;5;129;01min\u001b[39;00m pages_from_docs \u001b[38;5;28;01mfor\u001b[39;00m item \u001b[38;5;129;01min\u001b[39;00m pages]\n",
      "\u001b[36mFile \u001b[39m\u001b[32m~/workspace/custom_books/.venv/lib/python3.11/site-packages/ebooklib/utils.py:96\u001b[39m, in \u001b[36mget_pages\u001b[39m\u001b[34m(item)\u001b[39m\n\u001b[32m     95\u001b[39m \u001b[38;5;28;01mdef\u001b[39;00m\u001b[38;5;250m \u001b[39m\u001b[34mget_pages\u001b[39m(item):\n\u001b[32m---> \u001b[39m\u001b[32m96\u001b[39m     body = \u001b[43mparse_html_string\u001b[49m\u001b[43m(\u001b[49m\u001b[43mitem\u001b[49m\u001b[43m.\u001b[49m\u001b[43mget_body_content\u001b[49m\u001b[43m(\u001b[49m\u001b[43m)\u001b[49m\u001b[43m)\u001b[49m\n\u001b[32m     97\u001b[39m     pages = []\n\u001b[32m     99\u001b[39m     \u001b[38;5;28;01mfor\u001b[39;00m elem \u001b[38;5;129;01min\u001b[39;00m body.iter():\n",
      "\u001b[36mFile \u001b[39m\u001b[32m~/workspace/custom_books/.venv/lib/python3.11/site-packages/ebooklib/utils.py:48\u001b[39m, in \u001b[36mparse_html_string\u001b[39m\u001b[34m(s)\u001b[39m\n\u001b[32m     44\u001b[39m \u001b[38;5;28;01mfrom\u001b[39;00m\u001b[38;5;250m \u001b[39m\u001b[34;01mlxml\u001b[39;00m\u001b[38;5;250m \u001b[39m\u001b[38;5;28;01mimport\u001b[39;00m html\n\u001b[32m     46\u001b[39m utf8_parser = html.HTMLParser(encoding=\u001b[33m'\u001b[39m\u001b[33mutf-8\u001b[39m\u001b[33m'\u001b[39m)\n\u001b[32m---> \u001b[39m\u001b[32m48\u001b[39m html_tree = \u001b[43mhtml\u001b[49m\u001b[43m.\u001b[49m\u001b[43mdocument_fromstring\u001b[49m\u001b[43m(\u001b[49m\u001b[43ms\u001b[49m\u001b[43m,\u001b[49m\u001b[43m \u001b[49m\u001b[43mparser\u001b[49m\u001b[43m=\u001b[49m\u001b[43mutf8_parser\u001b[49m\u001b[43m)\u001b[49m\n\u001b[32m     50\u001b[39m \u001b[38;5;28;01mreturn\u001b[39;00m html_tree\n",
      "\u001b[36mFile \u001b[39m\u001b[32m~/workspace/custom_books/.venv/lib/python3.11/site-packages/lxml/html/__init__.py:738\u001b[39m, in \u001b[36mdocument_fromstring\u001b[39m\u001b[34m(html, parser, ensure_head_body, **kw)\u001b[39m\n\u001b[32m    736\u001b[39m value = etree.fromstring(html, parser, **kw)\n\u001b[32m    737\u001b[39m \u001b[38;5;28;01mif\u001b[39;00m value \u001b[38;5;129;01mis\u001b[39;00m \u001b[38;5;28;01mNone\u001b[39;00m:\n\u001b[32m--> \u001b[39m\u001b[32m738\u001b[39m     \u001b[38;5;28;01mraise\u001b[39;00m etree.ParserError(\n\u001b[32m    739\u001b[39m         \u001b[33m\"\u001b[39m\u001b[33mDocument is empty\u001b[39m\u001b[33m\"\u001b[39m)\n\u001b[32m    740\u001b[39m \u001b[38;5;28;01mif\u001b[39;00m ensure_head_body \u001b[38;5;129;01mand\u001b[39;00m value.find(\u001b[33m'\u001b[39m\u001b[33mhead\u001b[39m\u001b[33m'\u001b[39m) \u001b[38;5;129;01mis\u001b[39;00m \u001b[38;5;28;01mNone\u001b[39;00m:\n\u001b[32m    741\u001b[39m     value.insert(\u001b[32m0\u001b[39m, Element(\u001b[33m'\u001b[39m\u001b[33mhead\u001b[39m\u001b[33m'\u001b[39m))\n",
      "\u001b[31mParserError\u001b[39m: Document is empty"
     ]
    }
   ],
   "source": [
    "from create_book import create_ebook\n",
    "\n",
    "\n",
    "create_ebook()"
   ]
  }
 ],
 "metadata": {
  "kernelspec": {
   "display_name": ".venv",
   "language": "python",
   "name": "python3"
  },
  "language_info": {
   "codemirror_mode": {
    "name": "ipython",
    "version": 3
   },
   "file_extension": ".py",
   "mimetype": "text/x-python",
   "name": "python",
   "nbconvert_exporter": "python",
   "pygments_lexer": "ipython3",
   "version": "3.11.13"
  },
  "orig_nbformat": 4
 },
 "nbformat": 4,
 "nbformat_minor": 2
}
